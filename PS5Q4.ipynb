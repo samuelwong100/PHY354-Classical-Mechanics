{
 "cells": [
  {
   "cell_type": "code",
   "execution_count": 1,
   "metadata": {},
   "outputs": [],
   "source": [
    "from sympy import *\n",
    "init_printing()"
   ]
  },
  {
   "cell_type": "code",
   "execution_count": 2,
   "metadata": {},
   "outputs": [],
   "source": [
    "theta,phi,psi,p_theta,p_phi,p_psi,I1,I3,m,g,l = symbols('theta,phi,psi,p_theta,p_phi,p_psi,I_1,I_3,m,g,l')"
   ]
  },
  {
   "cell_type": "code",
   "execution_count": 3,
   "metadata": {},
   "outputs": [],
   "source": [
    "theta_dot, phi_dot, psi_dot = symbols('\\\\dot{\\\\theta}, \\\\dot{\\\\phi}, \\\\dot{\\\\psi}')\n",
    "P_theta,P_psi,P_phi = symbols('P_{\\\\theta},P_{\\\\psi},P_{\\\\phi}')"
   ]
  },
  {
   "cell_type": "code",
   "execution_count": 4,
   "metadata": {},
   "outputs": [
    {
     "data": {
      "image/png": "[encoded data removed]",
      "text/latex": [
       "$$0.5 I_{1} \\left(\\dot{\\phi}^{2} \\sin^{2}{\\left (\\theta \\right )} + \\dot{\\theta}^{2}\\right) + 0.5 I_{3} \\left(\\dot{\\phi} \\cos{\\left (\\theta \\right )} + \\dot{\\psi}\\right)^{2} - g l m \\cos{\\left (\\theta \\right )}$$"
      ],
      "text/plain": [
       "       ⎛          2    2                  2⎞                                  \n",
       "0.5⋅I₁⋅⎝\\dot{\\phi} ⋅sin (θ) + \\dot{\\theta} ⎠ + 0.5⋅I₃⋅(\\dot{\\phi}⋅cos(θ) + \\do\n",
       "\n",
       "        2               \n",
       "t{\\psi})  - g⋅l⋅m⋅cos(θ)"
      ]
     },
     "execution_count": 4,
     "metadata": {},
     "output_type": "execute_result"
    }
   ],
   "source": [
    "#Lagrangian\n",
    "L = (1/2)*I1*(theta_dot**2 + phi_dot**2 * (sin(theta))**2) + (1/2)*I3*(psi_dot + phi_dot*cos(theta))**2 - m*g*l*cos(theta)\n",
    "L"
   ]
  },
  {
   "cell_type": "markdown",
   "metadata": {},
   "source": [
    "Apply Legendre transform. Solve for the angular velocity when derivative of Lagrangian equal to momentum"
   ]
  },
  {
   "cell_type": "code",
   "execution_count": 5,
   "metadata": {},
   "outputs": [
    {
     "data": {
      "image/png": "[encoded data removed]",
      "text/latex": [
       "$$\\frac{P_{\\theta}}{I_{1}}$$"
      ],
      "text/plain": [
       "P_{\\theta}\n",
       "──────────\n",
       "    I₁    "
      ]
     },
     "execution_count": 5,
     "metadata": {},
     "output_type": "execute_result"
    }
   ],
   "source": [
    "new_theta_dot = solve(diff(L,theta_dot)-P_theta,theta_dot)[0]\n",
    "new_theta_dot"
   ]
  },
  {
   "cell_type": "code",
   "execution_count": 6,
   "metadata": {},
   "outputs": [
    {
     "data": {
      "image/png": "[encoded data removed]",
      "text/latex": [
       "$$\\frac{- I_{3} \\dot{\\psi} \\cos{\\left (\\theta \\right )} + P_{\\phi}}{I_{1} \\sin^{2}{\\left (\\theta \\right )} + I_{3} \\cos^{2}{\\left (\\theta \\right )}}$$"
      ],
      "text/plain": [
       "-I₃⋅\\dot{\\psi}⋅cos(θ) + P_{\\phi}\n",
       "────────────────────────────────\n",
       "          2            2        \n",
       "    I₁⋅sin (θ) + I₃⋅cos (θ)     "
      ]
     },
     "execution_count": 6,
     "metadata": {},
     "output_type": "execute_result"
    }
   ],
   "source": [
    "expression_for_phi_dot = solve(diff(L,phi_dot)-P_phi,phi_dot)[0]\n",
    "expression_for_phi_dot"
   ]
  },
  {
   "cell_type": "code",
   "execution_count": 7,
   "metadata": {},
   "outputs": [
    {
     "data": {
      "image/png": "[encoded data removed]",
      "text/latex": [
       "$$- \\dot{\\phi} \\cos{\\left (\\theta \\right )} + \\frac{P_{\\psi}}{I_{3}}$$"
      ],
      "text/plain": [
       "                     P_{\\psi}\n",
       "-\\dot{\\phi}⋅cos(θ) + ────────\n",
       "                        I₃   "
      ]
     },
     "execution_count": 7,
     "metadata": {},
     "output_type": "execute_result"
    }
   ],
   "source": [
    "expression_for_psi_dot = solve(diff(L,psi_dot)-P_psi,psi_dot)[0]\n",
    "expression_for_psi_dot"
   ]
  },
  {
   "cell_type": "markdown",
   "metadata": {},
   "source": [
    "Solve phi_dot and psi_dot as a system and write them separately in terms of the P's"
   ]
  },
  {
   "cell_type": "code",
   "execution_count": 8,
   "metadata": {},
   "outputs": [],
   "source": [
    "(new_phi_dot, new_psi_dot) = next(iter(nonlinsolve([phi_dot-expression_for_phi_dot, psi_dot-expression_for_psi_dot],[phi_dot,psi_dot])))"
   ]
  },
  {
   "cell_type": "code",
   "execution_count": 9,
   "metadata": {},
   "outputs": [
    {
     "data": {
      "image/png": "[encoded data removed]",
      "text/latex": [
       "$$\\frac{P_{\\phi} - P_{\\psi} \\cos{\\left (\\theta \\right )}}{I_{1} \\sin^{2}{\\left (\\theta \\right )}}$$"
      ],
      "text/plain": [
       "P_{\\phi} - P_{\\psi}⋅cos(θ)\n",
       "──────────────────────────\n",
       "              2           \n",
       "        I₁⋅sin (θ)        "
      ]
     },
     "execution_count": 9,
     "metadata": {},
     "output_type": "execute_result"
    }
   ],
   "source": [
    "new_phi_dot"
   ]
  },
  {
   "cell_type": "code",
   "execution_count": 10,
   "metadata": {},
   "outputs": [
    {
     "data": {
      "image/png": "[encoded data removed]",
      "text/latex": [
       "$$\\frac{P_{\\psi}}{I_{3}} - \\frac{P_{\\phi} \\cos{\\left (\\theta \\right )}}{I_{1} \\sin^{2}{\\left (\\theta \\right )}} + \\frac{P_{\\psi}}{I_{1} \\tan^{2}{\\left (\\theta \\right )}}$$"
      ],
      "text/plain": [
       "P_{\\psi}   P_{\\phi}⋅cos(θ)    P_{\\psi} \n",
       "──────── - ─────────────── + ──────────\n",
       "   I₃               2              2   \n",
       "              I₁⋅sin (θ)     I₁⋅tan (θ)"
      ]
     },
     "execution_count": 10,
     "metadata": {},
     "output_type": "execute_result"
    }
   ],
   "source": [
    "new_psi_dot"
   ]
  },
  {
   "cell_type": "code",
   "execution_count": 11,
   "metadata": {},
   "outputs": [],
   "source": [
    "#Hamiltonian\n",
    "H = P_theta*new_theta_dot + P_phi*new_phi_dot + P_psi*new_psi_dot - L.subs([(phi_dot,new_phi_dot),(psi_dot,new_psi_dot),(theta_dot,new_theta_dot)])"
   ]
  },
  {
   "cell_type": "code",
   "execution_count": 27,
   "metadata": {},
   "outputs": [
    {
     "data": {
      "image/png": "[encoded data removed]",
      "text/latex": [
       "$$1.0 g l m \\cos{\\left (\\theta \\right )} + \\frac{0.5 P_{\\psi}^{2}}{I_{3}} + \\frac{0.5 P_{\\phi}^{2}}{I_{1} \\sin^{2}{\\left (\\theta \\right )}} - \\frac{1.0 P_{\\phi} P_{\\psi} \\cos{\\left (\\theta \\right )}}{I_{1} \\sin^{2}{\\left (\\theta \\right )}} - \\frac{0.5 P_{\\psi}^{2}}{I_{1}} + \\frac{0.5 P_{\\psi}^{2}}{I_{1} \\sin^{2}{\\left (\\theta \\right )}} + \\frac{0.5 P_{\\theta}^{2}}{I_{1}}$$"
      ],
      "text/plain": [
       "                               2               2                              \n",
       "                   0.5⋅P_{\\psi}    0.5⋅P_{\\phi}    1.0⋅P_{\\phi}⋅P_{\\psi}⋅cos(θ\n",
       "1.0⋅g⋅l⋅m⋅cos(θ) + ───────────── + ───────────── - ───────────────────────────\n",
       "                         I₃                2                      2           \n",
       "                                     I₁⋅sin (θ)             I₁⋅sin (θ)        \n",
       "\n",
       "                2               2                 2\n",
       ")   0.5⋅P_{\\psi}    0.5⋅P_{\\psi}    0.5⋅P_{\\theta} \n",
       "─ - ───────────── + ───────────── + ───────────────\n",
       "          I₁                2              I₁      \n",
       "                      I₁⋅sin (θ)                   "
      ]
     },
     "execution_count": 27,
     "metadata": {},
     "output_type": "execute_result"
    }
   ],
   "source": [
    "simplify(H)"
   ]
  },
  {
   "cell_type": "markdown",
   "metadata": {},
   "source": [
    "Hamiltonian equations"
   ]
  },
  {
   "cell_type": "code",
   "execution_count": 13,
   "metadata": {},
   "outputs": [
    {
     "data": {
      "image/png": "[encoded data removed]",
      "text/latex": [
       "$$\\frac{1.0 \\left(P_{\\phi} - P_{\\psi} \\cos{\\left (\\theta \\right )}\\right)}{I_{1} \\sin^{2}{\\left (\\theta \\right )}}$$"
      ],
      "text/plain": [
       "1.0⋅(P_{\\phi} - P_{\\psi}⋅cos(θ))\n",
       "────────────────────────────────\n",
       "                 2              \n",
       "           I₁⋅sin (θ)           "
      ]
     },
     "execution_count": 13,
     "metadata": {},
     "output_type": "execute_result"
    }
   ],
   "source": [
    "#Hamilton equation for phi_dot\n",
    "simplify(diff(H,P_phi))"
   ]
  },
  {
   "cell_type": "code",
   "execution_count": 14,
   "metadata": {},
   "outputs": [
    {
     "data": {
      "image/png": "[encoded data removed]",
      "text/latex": [
       "$$0$$"
      ],
      "text/plain": [
       "0"
      ]
     },
     "execution_count": 14,
     "metadata": {},
     "output_type": "execute_result"
    }
   ],
   "source": [
    "#Hamilton equation for p_phi\n",
    "diff(-H,phi)"
   ]
  },
  {
   "cell_type": "code",
   "execution_count": 15,
   "metadata": {},
   "outputs": [
    {
     "data": {
      "image/png": "[encoded data removed]",
      "text/latex": [
       "$$\\frac{1.0 P_{\\psi}}{I_{3}} - \\frac{1.0 P_{\\phi} \\cos{\\left (\\theta \\right )}}{I_{1} \\sin^{2}{\\left (\\theta \\right )}} + \\frac{1.0 P_{\\psi}}{I_{1} \\tan^{2}{\\left (\\theta \\right )}}$$"
      ],
      "text/plain": [
       "1.0⋅P_{\\psi}   1.0⋅P_{\\phi}⋅cos(θ)   1.0⋅P_{\\psi}\n",
       "──────────── - ─────────────────── + ────────────\n",
       "     I₃                   2                 2    \n",
       "                    I₁⋅sin (θ)        I₁⋅tan (θ) "
      ]
     },
     "execution_count": 15,
     "metadata": {},
     "output_type": "execute_result"
    }
   ],
   "source": [
    "#Hamilton equation for psi_dot\n",
    "simplify(diff(H,P_psi))"
   ]
  },
  {
   "cell_type": "code",
   "execution_count": 16,
   "metadata": {},
   "outputs": [
    {
     "data": {
      "image/png": "[encoded data removed]",
      "text/latex": [
       "$$0$$"
      ],
      "text/plain": [
       "0"
      ]
     },
     "execution_count": 16,
     "metadata": {},
     "output_type": "execute_result"
    }
   ],
   "source": [
    "#Hamilton equation for P_si\n",
    "simplify(diff(-H,psi))"
   ]
  },
  {
   "cell_type": "code",
   "execution_count": 17,
   "metadata": {},
   "outputs": [
    {
     "data": {
      "image/png": "[encoded data removed]",
      "text/latex": [
       "$$\\frac{1.0 P_{\\theta}}{I_{1}}$$"
      ],
      "text/plain": [
       "1.0⋅P_{\\theta}\n",
       "──────────────\n",
       "      I₁      "
      ]
     },
     "execution_count": 17,
     "metadata": {},
     "output_type": "execute_result"
    }
   ],
   "source": [
    "#Hamilton equation for theta_dot\n",
    "simplify(diff(H,P_theta))"
   ]
  },
  {
   "cell_type": "code",
   "execution_count": 18,
   "metadata": {},
   "outputs": [
    {
     "data": {
      "image/png": "[encoded data removed]",
      "text/latex": [
       "$$\\frac{1}{I_{1}} \\left(1.0 I_{1} g l m \\sin{\\left (\\theta \\right )} + \\frac{1.0 P_{\\phi}^{2} \\cos{\\left (\\theta \\right )}}{\\sin^{3}{\\left (\\theta \\right )}} + \\frac{1.0 P_{\\phi} P_{\\psi}}{\\sin{\\left (\\theta \\right )}} - \\frac{2.0 P_{\\phi} P_{\\psi}}{\\sin^{3}{\\left (\\theta \\right )}} + \\frac{1.0 P_{\\psi}^{2} \\cos{\\left (\\theta \\right )}}{\\sin^{3}{\\left (\\theta \\right )}}\\right)$$"
      ],
      "text/plain": [
       "                                  2                                           \n",
       "                      1.0⋅P_{\\phi} ⋅cos(θ)   1.0⋅P_{\\phi}⋅P_{\\psi}   2.0⋅P_{\\p\n",
       "1.0⋅I₁⋅g⋅l⋅m⋅sin(θ) + ──────────────────── + ───────────────────── - ─────────\n",
       "                               3                     sin(θ)                   \n",
       "                            sin (θ)                                         si\n",
       "──────────────────────────────────────────────────────────────────────────────\n",
       "                                                        I₁                    \n",
       "\n",
       "                           2       \n",
       "hi}⋅P_{\\psi}   1.0⋅P_{\\psi} ⋅cos(θ)\n",
       "──────────── + ────────────────────\n",
       " 3                      3          \n",
       "n (θ)                sin (θ)       \n",
       "───────────────────────────────────\n",
       "                                   "
      ]
     },
     "execution_count": 18,
     "metadata": {},
     "output_type": "execute_result"
    }
   ],
   "source": [
    "#Hamilton equation for P_theta\n",
    "simplify(diff(-H,theta))"
   ]
  },
  {
   "cell_type": "code",
   "execution_count": null,
   "metadata": {},
   "outputs": [],
   "source": []
  },
  {
   "cell_type": "code",
   "execution_count": null,
   "metadata": {},
   "outputs": [],
   "source": []
  },
  {
   "cell_type": "code",
   "execution_count": null,
   "metadata": {},
   "outputs": [],
   "source": []
  }
 ],
 "metadata": {
  "kernelspec": {
   "display_name": "Python 3",
   "language": "python",
   "name": "python3"
  },
  "language_info": {
   "codemirror_mode": {
    "name": "ipython",
    "version": 3
   },
   "file_extension": ".py",
   "mimetype": "text/x-python",
   "name": "python",
   "nbconvert_exporter": "python",
   "pygments_lexer": "ipython3",
   "version": "3.7.0"
  }
 },
 "nbformat": 4,
 "nbformat_minor": 2
}
