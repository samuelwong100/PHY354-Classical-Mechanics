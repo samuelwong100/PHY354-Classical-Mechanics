{
 "cells": [
  {
   "cell_type": "code",
   "execution_count": 1,
   "metadata": {},
   "outputs": [],
   "source": [
    "from sympy import *\n",
    "init_printing()"
   ]
  },
  {
   "cell_type": "code",
   "execution_count": 22,
   "metadata": {},
   "outputs": [],
   "source": [
    "theta,I,a,m,g,l,b = symbols('theta, I_1, a, m, g, l,b')"
   ]
  },
  {
   "cell_type": "code",
   "execution_count": 17,
   "metadata": {},
   "outputs": [
    {
     "data": {
      "image/png": "[encoded data removed]",
      "text/latex": [
       "$$\\frac{I_{1} a^{2} \\left(- \\cos{\\left (\\theta \\right )} + 1\\right)^{2}}{2 \\sin^{2}{\\left (\\theta \\right )}} + g l m \\cos{\\left (\\theta \\right )}$$"
      ],
      "text/plain": [
       "    2              2               \n",
       "I₁⋅a ⋅(-cos(θ) + 1)                \n",
       "──────────────────── + g⋅l⋅m⋅cos(θ)\n",
       "          2                        \n",
       "     2⋅sin (θ)                     "
      ]
     },
     "execution_count": 17,
     "metadata": {},
     "output_type": "execute_result"
    }
   ],
   "source": [
    "v = I*a**2*(1-cos(theta))**2/(2*(sin(theta))**2) + m*g*l*cos(theta)\n",
    "v"
   ]
  },
  {
   "cell_type": "code",
   "execution_count": 18,
   "metadata": {},
   "outputs": [
    {
     "data": {
      "image/png": "[encoded data removed]",
      "text/latex": [
       "$$- \\frac{I_{1} a^{2} \\cos{\\left (\\theta \\right )}}{\\sin^{3}{\\left (\\theta \\right )}} \\left(- \\cos{\\left (\\theta \\right )} + 1\\right)^{2} + \\frac{I_{1} a^{2}}{\\sin{\\left (\\theta \\right )}} \\left(- \\cos{\\left (\\theta \\right )} + 1\\right) - g l m \\sin{\\left (\\theta \\right )}$$"
      ],
      "text/plain": [
       "      2              2              2                             \n",
       "  I₁⋅a ⋅(-cos(θ) + 1) ⋅cos(θ)   I₁⋅a ⋅(-cos(θ) + 1)               \n",
       "- ─────────────────────────── + ─────────────────── - g⋅l⋅m⋅sin(θ)\n",
       "               3                       sin(θ)                     \n",
       "            sin (θ)                                               "
      ]
     },
     "execution_count": 18,
     "metadata": {},
     "output_type": "execute_result"
    }
   ],
   "source": [
    "dv = diff(v,theta)\n",
    "dv"
   ]
  },
  {
   "cell_type": "code",
   "execution_count": 19,
   "metadata": {},
   "outputs": [
    {
     "data": {
      "image/png": "[encoded data removed]",
      "text/latex": [
       "$$0$$"
      ],
      "text/plain": [
       "0"
      ]
     },
     "execution_count": 19,
     "metadata": {},
     "output_type": "execute_result"
    }
   ],
   "source": [
    "#check that first derivative is 0\n",
    "limit(dv,theta,0)"
   ]
  },
  {
   "cell_type": "code",
   "execution_count": 43,
   "metadata": {},
   "outputs": [
    {
     "data": {
      "image/png": "[encoded data removed]",
      "text/latex": [
       "$$\\frac{1}{\\sin^{4}{\\left (\\theta \\right )}} \\left(- 4 I_{1} a^{2} \\sin^{2}{\\left (\\theta \\right )} - I_{1} a^{2} \\cos^{3}{\\left (\\theta \\right )} - 5 I_{1} a^{2} \\cos{\\left (\\theta \\right )} + 6 I_{1} a^{2} - g l m \\sin^{4}{\\left (\\theta \\right )} \\cos{\\left (\\theta \\right )}\\right)$$"
      ],
      "text/plain": [
       "        2    2          2    3            2                2            4     \n",
       "- 4⋅I₁⋅a ⋅sin (θ) - I₁⋅a ⋅cos (θ) - 5⋅I₁⋅a ⋅cos(θ) + 6⋅I₁⋅a  - g⋅l⋅m⋅sin (θ)⋅c\n",
       "──────────────────────────────────────────────────────────────────────────────\n",
       "                                         4                                    \n",
       "                                      sin (θ)                                 \n",
       "\n",
       "     \n",
       "os(θ)\n",
       "─────\n",
       "     \n",
       "     "
      ]
     },
     "execution_count": 43,
     "metadata": {},
     "output_type": "execute_result"
    }
   ],
   "source": [
    "d2v = diff(dv,theta)\n",
    "simplify(d2v)"
   ]
  },
  {
   "cell_type": "code",
   "execution_count": 21,
   "metadata": {},
   "outputs": [
    {
     "data": {
      "image/png": "[encoded data removed]",
      "text/latex": [
       "$$\\frac{I_{1} a^{2}}{4} - g l m$$"
      ],
      "text/plain": [
       "    2        \n",
       "I₁⋅a         \n",
       "───── - g⋅l⋅m\n",
       "  4          "
      ]
     },
     "execution_count": 21,
     "metadata": {},
     "output_type": "execute_result"
    }
   ],
   "source": [
    "#evaluate second derivative at 0\n",
    "limit(d2v,theta,0)"
   ]
  },
  {
   "cell_type": "code",
   "execution_count": 26,
   "metadata": {},
   "outputs": [
    {
     "data": {
      "image/png": "[encoded data removed]",
      "text/latex": [
       "$$\\frac{I_{1} \\left(- a \\cos{\\left (\\theta \\right )} + b\\right)^{2}}{2 \\sin^{2}{\\left (\\theta \\right )}} + g l m \\cos{\\left (\\theta \\right )}$$"
      ],
      "text/plain": [
       "                  2               \n",
       "I₁⋅(-a⋅cos(θ) + b)                \n",
       "─────────────────── + g⋅l⋅m⋅cos(θ)\n",
       "          2                       \n",
       "     2⋅sin (θ)                    "
      ]
     },
     "execution_count": 26,
     "metadata": {},
     "output_type": "execute_result"
    }
   ],
   "source": [
    "v_original = I*(b-a*cos(theta))**2/(2*(sin(theta))**2) + m*g*l*cos(theta)\n",
    "v_original"
   ]
  },
  {
   "cell_type": "code",
   "execution_count": 39,
   "metadata": {},
   "outputs": [
    {
     "data": {
      "image/png": "[encoded data removed]",
      "text/latex": [
       "$$\\frac{I_{1}}{2} \\left(\\frac{2 a}{\\sin{\\left (\\theta \\right )}} \\left(- a \\cos{\\left (\\theta \\right )} + b\\right) - \\frac{2 \\cos{\\left (\\theta \\right )}}{\\sin^{3}{\\left (\\theta \\right )}} \\left(- a \\cos{\\left (\\theta \\right )} + b\\right)^{2}\\right) - g l m \\sin{\\left (\\theta \\right )}$$"
      ],
      "text/plain": [
       "   ⎛                                       2       ⎞               \n",
       "   ⎜2⋅a⋅(-a⋅cos(θ) + b)   2⋅(-a⋅cos(θ) + b) ⋅cos(θ)⎟               \n",
       "I₁⋅⎜─────────────────── - ─────────────────────────⎟               \n",
       "   ⎜       sin(θ)                     3            ⎟               \n",
       "   ⎝                               sin (θ)         ⎠               \n",
       "──────────────────────────────────────────────────── - g⋅l⋅m⋅sin(θ)\n",
       "                         2                                         "
      ]
     },
     "execution_count": 39,
     "metadata": {},
     "output_type": "execute_result"
    }
   ],
   "source": [
    "dv_original = diff(v_original,theta)\n",
    "my_dv_original = (I/2)*(2*a*(b-a*cos(theta))/sin(theta)-((b-a*cos(theta))**2)*2*cos(theta)/(sin(theta))**3) -m*g*l*sin(theta)\n",
    "my_dv_original"
   ]
  },
  {
   "cell_type": "code",
   "execution_count": 40,
   "metadata": {},
   "outputs": [
    {
     "data": {
      "image/png": "[encoded data removed]",
      "text/latex": [
       "$$0$$"
      ],
      "text/plain": [
       "0"
      ]
     },
     "execution_count": 40,
     "metadata": {},
     "output_type": "execute_result"
    }
   ],
   "source": [
    "simplify(dv_original - my_dv_original)"
   ]
  },
  {
   "cell_type": "code",
   "execution_count": 42,
   "metadata": {},
   "outputs": [
    {
     "data": {
      "image/png": "[encoded data removed]",
      "text/latex": [
       "$$- \\frac{1}{\\sin^{3}{\\left (\\theta \\right )}} \\left(I_{1} \\left(a - b \\cos{\\left (\\theta \\right )}\\right) \\left(a \\cos{\\left (\\theta \\right )} - b\\right) + g l m \\sin^{4}{\\left (\\theta \\right )}\\right)$$"
      ],
      "text/plain": [
       " ⎛                                            4   ⎞ \n",
       "-⎝I₁⋅(a - b⋅cos(θ))⋅(a⋅cos(θ) - b) + g⋅l⋅m⋅sin (θ)⎠ \n",
       "────────────────────────────────────────────────────\n",
       "                         3                          \n",
       "                      sin (θ)                       "
      ]
     },
     "execution_count": 42,
     "metadata": {},
     "output_type": "execute_result"
    }
   ],
   "source": [
    "simplify(my_dv_original)"
   ]
  },
  {
   "cell_type": "code",
   "execution_count": null,
   "metadata": {},
   "outputs": [],
   "source": []
  }
 ],
 "metadata": {
  "kernelspec": {
   "display_name": "Python 3",
   "language": "python",
   "name": "python3"
  },
  "language_info": {
   "codemirror_mode": {
    "name": "ipython",
    "version": 3
   },
   "file_extension": ".py",
   "mimetype": "text/x-python",
   "name": "python",
   "nbconvert_exporter": "python",
   "pygments_lexer": "ipython3",
   "version": "3.7.0"
  }
 },
 "nbformat": 4,
 "nbformat_minor": 2
}
